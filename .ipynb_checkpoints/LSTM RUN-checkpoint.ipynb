{
 "cells": [
  {
   "cell_type": "code",
   "execution_count": 1,
   "id": "83271c3a",
   "metadata": {},
   "outputs": [],
   "source": [
    "import numpy as np # linear algebra\n",
    "import pandas as pd # data processing, CSV file I/O (e.g. pd.read_csv)\n",
    "\n",
    "# Input data files are available in the read-only \"../input/\" directory\n",
    "# For example, running this (by clicking run or pressing Shift+Enter) will list all files under the input directory\n",
    "\n",
    "import os\n",
    "for dirname, _, filenames in os.walk('/input'):\n",
    "    for filename in filenames:\n",
    "        print(os.path.join(dirname, filename))"
   ]
  },
  {
   "cell_type": "code",
   "execution_count": 2,
   "id": "0462a751",
   "metadata": {},
   "outputs": [],
   "source": [
    "import pandas as pd\n",
    "import numpy as np\n",
    "import matplotlib.pyplot as plt\n",
    "import seaborn as sns\n",
    "from sklearn.model_selection import train_test_split\n",
    "from sklearn.preprocessing import LabelEncoder\n",
    "from keras.models import Model\n",
    "from keras.layers import LSTM, Activation, Dense, Dropout, Input, Embedding\n",
    "\n",
    "from keras.preprocessing.text import Tokenizer\n",
    "from keras.preprocessing import sequence\n",
    "from keras.callbacks import EarlyStopping\n",
    "from sklearn.feature_extraction.text import CountVectorizer\n",
    "from keras.preprocessing.text import Tokenizer\n",
    "from keras.preprocessing.sequence import pad_sequences\n",
    "from keras.models import Sequential\n",
    "from keras.layers import Dense, Embedding, LSTM, SpatialDropout1D\n",
    "from sklearn.model_selection import train_test_split\n",
    "from keras.utils.np_utils import to_categorical\n",
    "%matplotlib inline\n",
    "import os\n",
    "import re\n",
    "# print(os.listdir(\"../input\"))\n",
    "import tensorflow as tf"
   ]
  },
  {
   "cell_type": "code",
   "execution_count": 4,
   "id": "4da06718",
   "metadata": {},
   "outputs": [],
   "source": [
    "import json\n",
    "\n",
    "def parse_data(file):\n",
    "    for l in open(file,'r'):\n",
    "        yield json.loads(l)\n",
    "\n",
    "data = list(parse_data('./input/Sarcasm_Headlines_Dataset.json'))"
   ]
  },
  {
   "cell_type": "code",
   "execution_count": 5,
   "id": "9234c947",
   "metadata": {},
   "outputs": [],
   "source": [
    "import json\n",
    "\n",
    "def parse_data(file):\n",
    "    for l in open(file,'r'):\n",
    "        yield json.loads(l)\n",
    "\n",
    "data2 = list(parse_data('./input/Sarcasm_Headlines_Dataset_v2.json'))"
   ]
  },
  {
   "cell_type": "code",
   "execution_count": 7,
   "id": "05482362",
   "metadata": {},
   "outputs": [],
   "source": [
    "df=pd.DataFrame(data)\n",
    "df2=pd.DataFrame(data2)\n"
   ]
  },
  {
   "cell_type": "code",
   "execution_count": 8,
   "id": "4d08752e",
   "metadata": {},
   "outputs": [
    {
     "data": {
      "text/html": [
       "<div>\n",
       "<style scoped>\n",
       "    .dataframe tbody tr th:only-of-type {\n",
       "        vertical-align: middle;\n",
       "    }\n",
       "\n",
       "    .dataframe tbody tr th {\n",
       "        vertical-align: top;\n",
       "    }\n",
       "\n",
       "    .dataframe thead th {\n",
       "        text-align: right;\n",
       "    }\n",
       "</style>\n",
       "<table border=\"1\" class=\"dataframe\">\n",
       "  <thead>\n",
       "    <tr style=\"text-align: right;\">\n",
       "      <th></th>\n",
       "      <th>headline</th>\n",
       "      <th>is_sarcastic</th>\n",
       "    </tr>\n",
       "  </thead>\n",
       "  <tbody>\n",
       "    <tr>\n",
       "      <th>0</th>\n",
       "      <td>former versace store clerk sues over secret 'b...</td>\n",
       "      <td>0</td>\n",
       "    </tr>\n",
       "    <tr>\n",
       "      <th>1</th>\n",
       "      <td>the 'roseanne' revival catches up to our thorn...</td>\n",
       "      <td>0</td>\n",
       "    </tr>\n",
       "    <tr>\n",
       "      <th>2</th>\n",
       "      <td>mom starting to fear son's web series closest ...</td>\n",
       "      <td>1</td>\n",
       "    </tr>\n",
       "    <tr>\n",
       "      <th>3</th>\n",
       "      <td>boehner just wants wife to listen, not come up...</td>\n",
       "      <td>1</td>\n",
       "    </tr>\n",
       "    <tr>\n",
       "      <th>4</th>\n",
       "      <td>j.k. rowling wishes snape happy birthday in th...</td>\n",
       "      <td>0</td>\n",
       "    </tr>\n",
       "  </tbody>\n",
       "</table>\n",
       "</div>"
      ],
      "text/plain": [
       "                                            headline  is_sarcastic\n",
       "0  former versace store clerk sues over secret 'b...             0\n",
       "1  the 'roseanne' revival catches up to our thorn...             0\n",
       "2  mom starting to fear son's web series closest ...             1\n",
       "3  boehner just wants wife to listen, not come up...             1\n",
       "4  j.k. rowling wishes snape happy birthday in th...             0"
      ]
     },
     "execution_count": 8,
     "metadata": {},
     "output_type": "execute_result"
    }
   ],
   "source": [
    "df = df[['headline','is_sarcastic']]\n",
    "df.head()"
   ]
  },
  {
   "cell_type": "code",
   "execution_count": 9,
   "id": "9de6848a",
   "metadata": {},
   "outputs": [
    {
     "data": {
      "image/png": "[encoded data removed]",
      "text/plain": [
       "<Figure size 432x288 with 1 Axes>"
      ]
     },
     "metadata": {
      "needs_background": "light"
     },
     "output_type": "display_data"
    }
   ],
   "source": [
    "ax = sns.countplot(x=\"is_sarcastic\", data=df)"
   ]
  },
  {
   "cell_type": "code",
   "execution_count": 10,
   "id": "a21521df",
   "metadata": {},
   "outputs": [
    {
     "data": {
      "image/png": "[encoded data removed]",
      "text/plain": [
       "<Figure size 432x288 with 1 Axes>"
      ]
     },
     "metadata": {
      "needs_background": "light"
     },
     "output_type": "display_data"
    }
   ],
   "source": [
    "\n",
    "\n",
    "ax = sns.countplot(x=\"is_sarcastic\", data=df2)\n",
    "\n"
   ]
  },
  {
   "cell_type": "code",
   "execution_count": 12,
   "id": "ef4b4f5a",
   "metadata": {},
   "outputs": [],
   "source": [
    "\n",
    "\n",
    "df['headline'] = df['headline'].apply(lambda x: x.lower())\n",
    "df['headline'] = df['headline'].apply((lambda x: re.sub('[^a-zA-z0-9\\s]','',x)))\n",
    "                                      "
   ]
  },
  {
   "cell_type": "code",
   "execution_count": 13,
   "id": "31653d60",
   "metadata": {},
   "outputs": [
    {
     "data": {
      "text/plain": [
       "0        former versace store clerk sues over secret bl...\n",
       "1        the roseanne revival catches up to our thorny ...\n",
       "2        mom starting to fear sons web series closest t...\n",
       "3        boehner just wants wife to listen not come up ...\n",
       "4        jk rowling wishes snape happy birthday in the ...\n",
       "                               ...                        \n",
       "26704                  american politics in moral freefall\n",
       "26705                               americas best 20 hikes\n",
       "26706                                reparations and obama\n",
       "26707    israeli ban targeting boycott supporters raise...\n",
       "26708                    gourmet gifts for the foodie 2014\n",
       "Name: headline, Length: 26709, dtype: object"
      ]
     },
     "execution_count": 13,
     "metadata": {},
     "output_type": "execute_result"
    }
   ],
   "source": [
    "\n",
    "\n",
    "df['headline']\n",
    "\n",
    "\n"
   ]
  },
  {
   "cell_type": "code",
   "execution_count": 14,
   "id": "8ee29984",
   "metadata": {},
   "outputs": [],
   "source": [
    "\n",
    "\n",
    "df2['headline'] = df2['headline'].apply(lambda x: x.lower())\n",
    "df2['headline'] = df2['headline'].apply((lambda x: re.sub('[^a-zA-z0-9\\s]','',x)))\n",
    "\n"
   ]
  },
  {
   "cell_type": "code",
   "execution_count": 15,
   "id": "604d0e2a",
   "metadata": {},
   "outputs": [],
   "source": [
    "vocab_size = 10000\n",
    "embedding_dim = 16\n",
    "max_length = 100\n",
    "\n",
    "tokenizer = Tokenizer(num_words=vocab_size, oov_token=\"<OOV>\")\n",
    "tokenizer.fit_on_texts(df2['headline'])\n",
    "word_index = tokenizer.word_index\n",
    "\n",
    "training_sequences = tokenizer.texts_to_sequences(df2['headline'])\n",
    "training_padded = pad_sequences(training_sequences,maxlen=max_length, padding='post', truncating='post')\n",
    "\n",
    "testing_sequences = tokenizer.texts_to_sequences(df['headline'])\n",
    "testing_padded = pad_sequences(testing_sequences, maxlen=max_length, padding='post', truncating='post')"
   ]
  },
  {
   "cell_type": "code",
   "execution_count": 16,
   "id": "82d813b2",
   "metadata": {},
   "outputs": [
    {
     "data": {
      "text/plain": [
       "array([[   1,  337, 3106, ...,    0,    0,    0],\n",
       "       [7348, 1732,  733, ...,    0,    0,    0],\n",
       "       [ 893,   35,    1, ...,    0,    0,    0],\n",
       "       ...,\n",
       "       [   4,   97,  590, ...,    0,    0,    0],\n",
       "       [1830, 1284, 3255, ...,    0,    0,    0],\n",
       "       [ 210, 3224,   21, ...,    0,    0,    0]])"
      ]
     },
     "execution_count": 16,
     "metadata": {},
     "output_type": "execute_result"
    }
   ],
   "source": [
    "\n",
    "\n",
    "training_padded\n",
    "\n"
   ]
  },
  {
   "cell_type": "code",
   "execution_count": 17,
   "id": "3a81f36a",
   "metadata": {},
   "outputs": [],
   "source": [
    "\n",
    "\n",
    "training_padded = np.array(training_padded)\n",
    "training_labels = np.array(df2['is_sarcastic'])\n",
    "testing_padded = np.array(testing_padded)\n",
    "testing_labels = np.array(df['is_sarcastic'])\n",
    "\n"
   ]
  },
  {
   "cell_type": "code",
   "execution_count": null,
   "id": "089dbd0e",
   "metadata": {},
   "outputs": [],
   "source": []
  },
  {
   "cell_type": "code",
   "execution_count": 19,
   "id": "976dfcfc",
   "metadata": {},
   "outputs": [
    {
     "name": "stdout",
     "output_type": "stream",
     "text": [
      "Epoch 1/30\n",
      "895/895 - 46s - loss: 0.3878 - accuracy: 0.8135 - val_loss: 0.2232 - val_accuracy: 0.9126 - 46s/epoch - 51ms/step\n",
      "Epoch 2/30\n",
      "895/895 - 45s - loss: 0.2260 - accuracy: 0.9095 - val_loss: 0.1396 - val_accuracy: 0.9542 - 45s/epoch - 50ms/step\n",
      "Epoch 3/30\n",
      "895/895 - 46s - loss: 0.1615 - accuracy: 0.9377 - val_loss: 0.1045 - val_accuracy: 0.9698 - 46s/epoch - 51ms/step\n",
      "Epoch 4/30\n",
      "895/895 - 48s - loss: 0.1151 - accuracy: 0.9578 - val_loss: 0.0782 - val_accuracy: 0.9745 - 48s/epoch - 53ms/step\n",
      "Epoch 5/30\n",
      "895/895 - 42s - loss: 0.0841 - accuracy: 0.9698 - val_loss: 0.0485 - val_accuracy: 0.9865 - 42s/epoch - 47ms/step\n",
      "Epoch 6/30\n",
      "895/895 - 43s - loss: 0.0611 - accuracy: 0.9787 - val_loss: 0.0336 - val_accuracy: 0.9904 - 43s/epoch - 48ms/step\n",
      "Epoch 7/30\n",
      "895/895 - 43s - loss: 0.0434 - accuracy: 0.9863 - val_loss: 0.0240 - val_accuracy: 0.9930 - 43s/epoch - 49ms/step\n",
      "Epoch 8/30\n",
      "895/895 - 55s - loss: 0.0319 - accuracy: 0.9891 - val_loss: 0.0277 - val_accuracy: 0.9912 - 55s/epoch - 62ms/step\n",
      "Epoch 9/30\n",
      "895/895 - 48s - loss: 0.0252 - accuracy: 0.9913 - val_loss: 0.0206 - val_accuracy: 0.9929 - 48s/epoch - 54ms/step\n",
      "Epoch 10/30\n",
      "895/895 - 47s - loss: 0.0217 - accuracy: 0.9927 - val_loss: 0.0120 - val_accuracy: 0.9964 - 47s/epoch - 52ms/step\n",
      "Epoch 11/30\n",
      "895/895 - 44s - loss: 0.0144 - accuracy: 0.9952 - val_loss: 0.0077 - val_accuracy: 0.9981 - 44s/epoch - 49ms/step\n",
      "Epoch 12/30\n",
      "895/895 - 42s - loss: 0.0118 - accuracy: 0.9955 - val_loss: 0.0100 - val_accuracy: 0.9969 - 42s/epoch - 47ms/step\n",
      "Epoch 13/30\n",
      "895/895 - 45s - loss: 0.0120 - accuracy: 0.9961 - val_loss: 0.0067 - val_accuracy: 0.9981 - 45s/epoch - 50ms/step\n",
      "Epoch 14/30\n",
      "895/895 - 43s - loss: 0.0076 - accuracy: 0.9974 - val_loss: 0.0052 - val_accuracy: 0.9985 - 43s/epoch - 48ms/step\n",
      "Epoch 15/30\n",
      "895/895 - 42s - loss: 0.0076 - accuracy: 0.9977 - val_loss: 0.0044 - val_accuracy: 0.9987 - 42s/epoch - 47ms/step\n",
      "Epoch 16/30\n",
      "895/895 - 42s - loss: 0.0073 - accuracy: 0.9978 - val_loss: 0.0045 - val_accuracy: 0.9987 - 42s/epoch - 47ms/step\n",
      "Epoch 17/30\n",
      "895/895 - 43s - loss: 0.0054 - accuracy: 0.9983 - val_loss: 0.0036 - val_accuracy: 0.9991 - 43s/epoch - 48ms/step\n",
      "Epoch 18/30\n",
      "895/895 - 42s - loss: 0.0046 - accuracy: 0.9984 - val_loss: 0.0040 - val_accuracy: 0.9985 - 42s/epoch - 47ms/step\n",
      "Epoch 19/30\n",
      "895/895 - 43s - loss: 0.0044 - accuracy: 0.9984 - val_loss: 0.0026 - val_accuracy: 0.9990 - 43s/epoch - 48ms/step\n",
      "Epoch 20/30\n",
      "895/895 - 54s - loss: 0.0040 - accuracy: 0.9984 - val_loss: 0.0053 - val_accuracy: 0.9981 - 54s/epoch - 61ms/step\n",
      "Epoch 21/30\n",
      "895/895 - 54s - loss: 0.0042 - accuracy: 0.9987 - val_loss: 0.0030 - val_accuracy: 0.9989 - 54s/epoch - 60ms/step\n",
      "Epoch 22/30\n",
      "895/895 - 46s - loss: 0.0021 - accuracy: 0.9993 - val_loss: 8.2524e-04 - val_accuracy: 0.9998 - 46s/epoch - 52ms/step\n",
      "Epoch 23/30\n",
      "895/895 - 47s - loss: 9.7878e-04 - accuracy: 0.9997 - val_loss: 5.5191e-04 - val_accuracy: 0.9999 - 47s/epoch - 53ms/step\n",
      "Epoch 24/30\n",
      "895/895 - 47s - loss: 0.0012 - accuracy: 0.9996 - val_loss: 0.0014 - val_accuracy: 0.9997 - 47s/epoch - 53ms/step\n",
      "Epoch 25/30\n",
      "895/895 - 52s - loss: 0.0051 - accuracy: 0.9982 - val_loss: 0.0015 - val_accuracy: 0.9996 - 52s/epoch - 58ms/step\n",
      "Epoch 26/30\n",
      "895/895 - 54s - loss: 0.0023 - accuracy: 0.9992 - val_loss: 0.0030 - val_accuracy: 0.9991 - 54s/epoch - 60ms/step\n",
      "Epoch 27/30\n",
      "895/895 - 49s - loss: 0.0033 - accuracy: 0.9990 - val_loss: 0.0014 - val_accuracy: 0.9994 - 49s/epoch - 55ms/step\n",
      "Epoch 28/30\n",
      "895/895 - 44s - loss: 0.0019 - accuracy: 0.9994 - val_loss: 0.0010 - val_accuracy: 0.9996 - 44s/epoch - 49ms/step\n",
      "Epoch 29/30\n",
      "895/895 - 47s - loss: 0.0016 - accuracy: 0.9995 - val_loss: 0.0010 - val_accuracy: 0.9997 - 47s/epoch - 53ms/step\n",
      "Epoch 30/30\n",
      "895/895 - 48s - loss: 0.0018 - accuracy: 0.9995 - val_loss: 0.0011 - val_accuracy: 0.9996 - 48s/epoch - 53ms/step\n"
     ]
    }
   ],
   "source": [
    "\n",
    "\n",
    "model = tf.keras.Sequential([\n",
    "    tf.keras.layers.Embedding(vocab_size, embedding_dim, input_length = max_length),\n",
    "    tf.keras.layers.Bidirectional(tf.keras.layers.LSTM(32)),\n",
    "    tf.keras.layers.Dense(24, activation='relu'),\n",
    "    tf.keras.layers.Dense(1, activation='sigmoid')\n",
    "])\n",
    "\n",
    "model.compile(loss='binary_crossentropy',optimizer='adam',metrics=['accuracy'])\n",
    "history = model.fit(training_padded, training_labels, epochs=30, validation_data=(testing_padded, testing_labels), verbose=2)\n",
    "                    "
   ]
  },
  {
   "cell_type": "code",
   "execution_count": 20,
   "id": "8cb10e6c",
   "metadata": {},
   "outputs": [
    {
     "name": "stdout",
     "output_type": "stream",
     "text": [
      "835/835 [==============================] - 11s 13ms/step - loss: 0.0011 - accuracy: 0.9996\n"
     ]
    }
   ],
   "source": [
    "score,acc=model.evaluate(testing_padded,testing_labels)"
   ]
  },
  {
   "cell_type": "code",
   "execution_count": 21,
   "id": "d2de4c8e",
   "metadata": {},
   "outputs": [
    {
     "data": {
      "text/plain": [
       "(0.9996256232261658, 0.0010726044420152903)"
      ]
     },
     "execution_count": 21,
     "metadata": {},
     "output_type": "execute_result"
    }
   ],
   "source": [
    "acc,score"
   ]
  },
  {
   "cell_type": "code",
   "execution_count": null,
   "id": "6698d5a0",
   "metadata": {},
   "outputs": [],
   "source": []
  }
 ],
 "metadata": {
  "kernelspec": {
   "display_name": "Python 3 (ipykernel)",
   "language": "python",
   "name": "python3"
  },
  "language_info": {
   "codemirror_mode": {
    "name": "ipython",
    "version": 3
   },
   "file_extension": ".py",
   "mimetype": "text/x-python",
   "name": "python",
   "nbconvert_exporter": "python",
   "pygments_lexer": "ipython3",
   "version": "3.10.4"
  }
 },
 "nbformat": 4,
 "nbformat_minor": 5
}
